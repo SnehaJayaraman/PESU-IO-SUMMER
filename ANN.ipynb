{
 "cells": [
  {
   "cell_type": "code",
   "execution_count": 2,
   "metadata": {},
   "outputs": [
    {
     "name": "stdout",
     "output_type": "stream",
     "text": [
      "1.14.0\n"
     ]
    }
   ],
   "source": [
    "from __future__ import absolute_import, division, print_function, unicode_literals\n",
    "\n",
    "import tensorflow as tf\n",
    "from tensorflow import keras\n",
    "\n",
    "import numpy as np\n",
    "\n",
    "print(tf.__version__)"
   ]
  },
  {
   "cell_type": "code",
   "execution_count": 4,
   "metadata": {},
   "outputs": [
    {
     "name": "stdout",
     "output_type": "stream",
     "text": [
      "Downloading data from https://storage.googleapis.com/tensorflow/tf-keras-datasets/imdb.npz\n",
      "17465344/17464789 [==============================] - 1611s 92us/step\n"
     ]
    }
   ],
   "source": [
    "imdb = keras.datasets.imdb\n",
    "\n",
    "(train_data, train_labels), (test_data, test_labels) = imdb.load_data(num_words=10000)"
   ]
  },
  {
   "cell_type": "code",
   "execution_count": 7,
   "metadata": {},
   "outputs": [
    {
     "name": "stdout",
     "output_type": "stream",
     "text": [
      "Train_data: 25000 Train_labels: 25000\n"
     ]
    }
   ],
   "source": [
    "print(\"Train_data:\",len(train_data),\"Train_labels:\",len(train_labels))"
   ]
  },
  {
   "cell_type": "code",
   "execution_count": 8,
   "metadata": {},
   "outputs": [
    {
     "name": "stdout",
     "output_type": "stream",
     "text": [
      "[1, 14, 22, 16, 43, 530, 973, 1622, 1385, 65, 458, 4468, 66, 3941, 4, 173, 36, 256, 5, 25, 100, 43, 838, 112, 50, 670, 2, 9, 35, 480, 284, 5, 150, 4, 172, 112, 167, 2, 336, 385, 39, 4, 172, 4536, 1111, 17, 546, 38, 13, 447, 4, 192, 50, 16, 6, 147, 2025, 19, 14, 22, 4, 1920, 4613, 469, 4, 22, 71, 87, 12, 16, 43, 530, 38, 76, 15, 13, 1247, 4, 22, 17, 515, 17, 12, 16, 626, 18, 2, 5, 62, 386, 12, 8, 316, 8, 106, 5, 4, 2223, 5244, 16, 480, 66, 3785, 33, 4, 130, 12, 16, 38, 619, 5, 25, 124, 51, 36, 135, 48, 25, 1415, 33, 6, 22, 12, 215, 28, 77, 52, 5, 14, 407, 16, 82, 2, 8, 4, 107, 117, 5952, 15, 256, 4, 2, 7, 3766, 5, 723, 36, 71, 43, 530, 476, 26, 400, 317, 46, 7, 4, 2, 1029, 13, 104, 88, 4, 381, 15, 297, 98, 32, 2071, 56, 26, 141, 6, 194, 7486, 18, 4, 226, 22, 21, 134, 476, 26, 480, 5, 144, 30, 5535, 18, 51, 36, 28, 224, 92, 25, 104, 4, 226, 65, 16, 38, 1334, 88, 12, 16, 283, 5, 16, 4472, 113, 103, 32, 15, 16, 5345, 19, 178, 32]\n"
     ]
    }
   ],
   "source": [
    "print(train_data[0])"
   ]
  },
  {
   "cell_type": "code",
   "execution_count": 11,
   "metadata": {},
   "outputs": [
    {
     "data": {
      "text/plain": [
       "218"
      ]
     },
     "execution_count": 11,
     "metadata": {},
     "output_type": "execute_result"
    }
   ],
   "source": [
    "len(train_data[0])"
   ]
  },
  {
   "cell_type": "code",
   "execution_count": 12,
   "metadata": {},
   "outputs": [
    {
     "data": {
      "text/plain": [
       "189"
      ]
     },
     "execution_count": 12,
     "metadata": {},
     "output_type": "execute_result"
    }
   ],
   "source": [
    "len(train_data[1])"
   ]
  },
  {
   "cell_type": "code",
   "execution_count": 18,
   "metadata": {},
   "outputs": [],
   "source": [
    "word_index = imdb.get_word_index()\n",
    "#print(word_index)\n",
    "word_index = {k:(v+3) for k,v in word_index.items()}\n",
    "#print(word_index)\n",
    "word_index[\"<PAD>\"] = 0\n",
    "word_index[\"<START>\"] = 1\n",
    "word_index[\"<UNK>\"] = 2  \n",
    "word_index[\"<UNUSED>\"] = 3\n",
    "\n",
    "reverse_word_index = dict([(value, key) for (key, value) in word_index.items()])\n",
    "\n",
    "def decode(words):\n",
    "      return ' '.join([reverse_word_index.get(i, '?') for i in words])"
   ]
  },
  {
   "cell_type": "code",
   "execution_count": 19,
   "metadata": {},
   "outputs": [
    {
     "data": {
      "text/plain": [
       "\"<START> this film was just brilliant casting location scenery story direction everyone's really suited the part they played and you could just imagine being there robert <UNK> is an amazing actor and now the same being director <UNK> father came from the same scottish island as myself so i loved the fact there was a real connection with this film the witty remarks throughout the film were great it was just brilliant so much that i bought the film as soon as it was released for <UNK> and would recommend it to everyone to watch and the fly fishing was amazing really cried at the end it was so sad and you know what they say if you cry at a film it must have been good and this definitely was also <UNK> to the two little boy's that played the <UNK> of norman and paul they were just brilliant children are often left out of the <UNK> list i think because the stars that play them all grown up are such a big profile for the whole film but these children are amazing and should be praised for what they have done don't you think the whole story was so lovely because it was true and was someone's life after all that was shared with us all\""
      ]
     },
     "execution_count": 19,
     "metadata": {},
     "output_type": "execute_result"
    }
   ],
   "source": [
    "decode(train_data[0])"
   ]
  },
  {
   "cell_type": "code",
   "execution_count": 20,
   "metadata": {},
   "outputs": [],
   "source": [
    "train_data = keras.preprocessing.sequence.pad_sequences(train_data,\n",
    "                                                        value=word_index[\"<PAD>\"],\n",
    "                                                        padding='post',\n",
    "                                                        maxlen=256)\n",
    "\n",
    "test_data = keras.preprocessing.sequence.pad_sequences(test_data,\n",
    "                                                       value=word_index[\"<PAD>\"],\n",
    "                                                       padding='post',\n",
    "                                                       maxlen=256)"
   ]
  },
  {
   "cell_type": "code",
   "execution_count": 21,
   "metadata": {},
   "outputs": [
    {
     "data": {
      "text/plain": [
       "(256, 256)"
      ]
     },
     "execution_count": 21,
     "metadata": {},
     "output_type": "execute_result"
    }
   ],
   "source": [
    "len(train_data[0]), len(train_data[1])"
   ]
  },
  {
   "cell_type": "code",
   "execution_count": 22,
   "metadata": {},
   "outputs": [
    {
     "data": {
      "text/plain": [
       "256"
      ]
     },
     "execution_count": 22,
     "metadata": {},
     "output_type": "execute_result"
    }
   ],
   "source": [
    "len(test_data[0])"
   ]
  },
  {
   "cell_type": "code",
   "execution_count": 23,
   "metadata": {},
   "outputs": [
    {
     "name": "stdout",
     "output_type": "stream",
     "text": [
      "[   1   14   22   16   43  530  973 1622 1385   65  458 4468   66 3941\n",
      "    4  173   36  256    5   25  100   43  838  112   50  670    2    9\n",
      "   35  480  284    5  150    4  172  112  167    2  336  385   39    4\n",
      "  172 4536 1111   17  546   38   13  447    4  192   50   16    6  147\n",
      " 2025   19   14   22    4 1920 4613  469    4   22   71   87   12   16\n",
      "   43  530   38   76   15   13 1247    4   22   17  515   17   12   16\n",
      "  626   18    2    5   62  386   12    8  316    8  106    5    4 2223\n",
      " 5244   16  480   66 3785   33    4  130   12   16   38  619    5   25\n",
      "  124   51   36  135   48   25 1415   33    6   22   12  215   28   77\n",
      "   52    5   14  407   16   82    2    8    4  107  117 5952   15  256\n",
      "    4    2    7 3766    5  723   36   71   43  530  476   26  400  317\n",
      "   46    7    4    2 1029   13  104   88    4  381   15  297   98   32\n",
      " 2071   56   26  141    6  194 7486   18    4  226   22   21  134  476\n",
      "   26  480    5  144   30 5535   18   51   36   28  224   92   25  104\n",
      "    4  226   65   16   38 1334   88   12   16  283    5   16 4472  113\n",
      "  103   32   15   16 5345   19  178   32    0    0    0    0    0    0\n",
      "    0    0    0    0    0    0    0    0    0    0    0    0    0    0\n",
      "    0    0    0    0    0    0    0    0    0    0    0    0    0    0\n",
      "    0    0    0    0]\n"
     ]
    },
    {
     "data": {
      "text/plain": [
       "\"<START> this film was just brilliant casting location scenery story direction everyone's really suited the part they played and you could just imagine being there robert <UNK> is an amazing actor and now the same being director <UNK> father came from the same scottish island as myself so i loved the fact there was a real connection with this film the witty remarks throughout the film were great it was just brilliant so much that i bought the film as soon as it was released for <UNK> and would recommend it to everyone to watch and the fly fishing was amazing really cried at the end it was so sad and you know what they say if you cry at a film it must have been good and this definitely was also <UNK> to the two little boy's that played the <UNK> of norman and paul they were just brilliant children are often left out of the <UNK> list i think because the stars that play them all grown up are such a big profile for the whole film but these children are amazing and should be praised for what they have done don't you think the whole story was so lovely because it was true and was someone's life after all that was shared with us all <PAD> <PAD> <PAD> <PAD> <PAD> <PAD> <PAD> <PAD> <PAD> <PAD> <PAD> <PAD> <PAD> <PAD> <PAD> <PAD> <PAD> <PAD> <PAD> <PAD> <PAD> <PAD> <PAD> <PAD> <PAD> <PAD> <PAD> <PAD> <PAD> <PAD> <PAD> <PAD> <PAD> <PAD> <PAD> <PAD> <PAD> <PAD>\""
      ]
     },
     "execution_count": 23,
     "metadata": {},
     "output_type": "execute_result"
    }
   ],
   "source": [
    "print(train_data[0])\n",
    "decode(train_data[0])"
   ]
  },
  {
   "cell_type": "code",
   "execution_count": 24,
   "metadata": {},
   "outputs": [
    {
     "name": "stderr",
     "output_type": "stream",
     "text": [
      "WARNING: Logging before flag parsing goes to stderr.\n",
      "W0706 18:40:35.471961 16532 deprecation.py:506] From C:\\Users\\Jayaraman\\Anaconda3\\lib\\site-packages\\tensorflow\\python\\keras\\initializers.py:119: calling RandomUniform.__init__ (from tensorflow.python.ops.init_ops) with dtype is deprecated and will be removed in a future version.\n",
      "Instructions for updating:\n",
      "Call initializer instance with the dtype argument instead of passing it to the constructor\n",
      "W0706 18:40:35.715203 16532 deprecation.py:506] From C:\\Users\\Jayaraman\\Anaconda3\\lib\\site-packages\\tensorflow\\python\\ops\\init_ops.py:1251: calling VarianceScaling.__init__ (from tensorflow.python.ops.init_ops) with dtype is deprecated and will be removed in a future version.\n",
      "Instructions for updating:\n",
      "Call initializer instance with the dtype argument instead of passing it to the constructor\n"
     ]
    }
   ],
   "source": [
    "vocab_size = 10000\n",
    "\n",
    "model = keras.Sequential()\n",
    "model.add(keras.layers.Embedding(vocab_size, 16))\n",
    "model.add(keras.layers.GlobalAveragePooling1D())\n",
    "model.add(keras.layers.Dense(16, activation=tf.nn.relu))\n",
    "model.add(keras.layers.Dense(1, activation=tf.nn.sigmoid))\n"
   ]
  },
  {
   "cell_type": "code",
   "execution_count": 28,
   "metadata": {},
   "outputs": [],
   "source": [
    "model.compile(optimizer='adam',\n",
    "              loss='binary_crossentropy',\n",
    "              metrics=['accuracy'])"
   ]
  },
  {
   "cell_type": "code",
   "execution_count": 29,
   "metadata": {},
   "outputs": [],
   "source": [
    "x_val = train_data[:10000]\n",
    "partial_x_train = train_data[10000:]\n",
    "\n",
    "y_val = train_labels[:10000]\n",
    "partial_y_train = train_labels[10000:]\n"
   ]
  },
  {
   "cell_type": "code",
   "execution_count": 30,
   "metadata": {},
   "outputs": [
    {
     "name": "stdout",
     "output_type": "stream",
     "text": [
      "Train on 15000 samples, validate on 10000 samples\n",
      "Epoch 1/40\n",
      "15000/15000 [==============================] - 4s 297us/sample - loss: 0.6919 - acc: 0.5587 - val_loss: 0.6900 - val_acc: 0.6026\n",
      "Epoch 2/40\n",
      "15000/15000 [==============================] - 3s 231us/sample - loss: 0.6861 - acc: 0.6915 - val_loss: 0.6816 - val_acc: 0.7423\n",
      "Epoch 3/40\n",
      "15000/15000 [==============================] - 3s 208us/sample - loss: 0.6731 - acc: 0.7553 - val_loss: 0.6652 - val_acc: 0.7514\n",
      "Epoch 4/40\n",
      "15000/15000 [==============================] - 3s 209us/sample - loss: 0.6501 - acc: 0.7667 - val_loss: 0.6387 - val_acc: 0.7555\n",
      "Epoch 5/40\n",
      "15000/15000 [==============================] - 3s 214us/sample - loss: 0.6159 - acc: 0.7928 - val_loss: 0.6028 - val_acc: 0.7839\n",
      "Epoch 6/40\n",
      "15000/15000 [==============================] - 3s 169us/sample - loss: 0.5725 - acc: 0.8141 - val_loss: 0.5610 - val_acc: 0.8066\n",
      "Epoch 7/40\n",
      "15000/15000 [==============================] - 3s 177us/sample - loss: 0.5241 - acc: 0.8294 - val_loss: 0.5153 - val_acc: 0.8203\n",
      "Epoch 8/40\n",
      "15000/15000 [==============================] - 3s 167us/sample - loss: 0.4749 - acc: 0.8482 - val_loss: 0.4726 - val_acc: 0.8346\n",
      "Epoch 9/40\n",
      "15000/15000 [==============================] - 3s 183us/sample - loss: 0.4293 - acc: 0.8630 - val_loss: 0.4348 - val_acc: 0.8463\n",
      "Epoch 10/40\n",
      "15000/15000 [==============================] - 3s 187us/sample - loss: 0.3895 - acc: 0.8743 - val_loss: 0.4040 - val_acc: 0.8527\n",
      "Epoch 11/40\n",
      "15000/15000 [==============================] - 3s 180us/sample - loss: 0.3563 - acc: 0.8833 - val_loss: 0.3791 - val_acc: 0.8610\n",
      "Epoch 12/40\n",
      "15000/15000 [==============================] - 3s 177us/sample - loss: 0.3286 - acc: 0.8905 - val_loss: 0.3600 - val_acc: 0.8636\n",
      "Epoch 13/40\n",
      "15000/15000 [==============================] - 3s 171us/sample - loss: 0.3061 - acc: 0.8967 - val_loss: 0.3436 - val_acc: 0.8708\n",
      "Epoch 14/40\n",
      "15000/15000 [==============================] - 2s 166us/sample - loss: 0.2860 - acc: 0.9033 - val_loss: 0.3316 - val_acc: 0.8730\n",
      "Epoch 15/40\n",
      "15000/15000 [==============================] - 3s 172us/sample - loss: 0.2691 - acc: 0.9071 - val_loss: 0.3219 - val_acc: 0.8751\n",
      "Epoch 16/40\n",
      "15000/15000 [==============================] - 3s 176us/sample - loss: 0.2541 - acc: 0.9121 - val_loss: 0.3138 - val_acc: 0.8757\n",
      "Epoch 17/40\n",
      "15000/15000 [==============================] - 3s 172us/sample - loss: 0.2401 - acc: 0.9166 - val_loss: 0.3070 - val_acc: 0.8787\n",
      "Epoch 18/40\n",
      "15000/15000 [==============================] - 3s 171us/sample - loss: 0.2278 - acc: 0.9217 - val_loss: 0.3015 - val_acc: 0.8809\n",
      "Epoch 19/40\n",
      "15000/15000 [==============================] - 3s 170us/sample - loss: 0.2166 - acc: 0.9242 - val_loss: 0.2967 - val_acc: 0.8830\n",
      "Epoch 20/40\n",
      "15000/15000 [==============================] - 3s 171us/sample - loss: 0.2066 - acc: 0.9279 - val_loss: 0.2934 - val_acc: 0.8828\n",
      "Epoch 21/40\n",
      "15000/15000 [==============================] - 3s 171us/sample - loss: 0.1963 - acc: 0.9339 - val_loss: 0.2907 - val_acc: 0.8833\n",
      "Epoch 22/40\n",
      "15000/15000 [==============================] - 3s 169us/sample - loss: 0.1878 - acc: 0.9371 - val_loss: 0.2887 - val_acc: 0.8847\n",
      "Epoch 23/40\n",
      "15000/15000 [==============================] - 3s 170us/sample - loss: 0.1792 - acc: 0.9413 - val_loss: 0.2880 - val_acc: 0.8841\n",
      "Epoch 24/40\n",
      "15000/15000 [==============================] - 3s 170us/sample - loss: 0.1717 - acc: 0.9449 - val_loss: 0.2864 - val_acc: 0.8842\n",
      "Epoch 25/40\n",
      "15000/15000 [==============================] - 3s 170us/sample - loss: 0.1641 - acc: 0.9480 - val_loss: 0.2855 - val_acc: 0.8851\n",
      "Epoch 26/40\n",
      "15000/15000 [==============================] - 3s 171us/sample - loss: 0.1572 - acc: 0.9507 - val_loss: 0.2863 - val_acc: 0.8840\n",
      "Epoch 27/40\n",
      "15000/15000 [==============================] - 3s 170us/sample - loss: 0.1508 - acc: 0.9530 - val_loss: 0.2861 - val_acc: 0.8841\n",
      "Epoch 28/40\n",
      "15000/15000 [==============================] - 3s 171us/sample - loss: 0.1447 - acc: 0.9551 - val_loss: 0.2867 - val_acc: 0.8852\n",
      "Epoch 29/40\n",
      "15000/15000 [==============================] - 3s 173us/sample - loss: 0.1393 - acc: 0.9585 - val_loss: 0.2889 - val_acc: 0.8842\n",
      "Epoch 30/40\n",
      "15000/15000 [==============================] - 3s 171us/sample - loss: 0.1336 - acc: 0.9600 - val_loss: 0.2884 - val_acc: 0.8856\n",
      "Epoch 31/40\n",
      "15000/15000 [==============================] - 3s 175us/sample - loss: 0.1279 - acc: 0.9626 - val_loss: 0.2899 - val_acc: 0.8867\n",
      "Epoch 32/40\n",
      "15000/15000 [==============================] - 3s 172us/sample - loss: 0.1228 - acc: 0.9657 - val_loss: 0.2916 - val_acc: 0.8863\n",
      "Epoch 33/40\n",
      "15000/15000 [==============================] - 3s 172us/sample - loss: 0.1179 - acc: 0.9671 - val_loss: 0.2942 - val_acc: 0.8841\n",
      "Epoch 34/40\n",
      "15000/15000 [==============================] - 3s 171us/sample - loss: 0.1135 - acc: 0.9681 - val_loss: 0.2964 - val_acc: 0.8856\n",
      "Epoch 35/40\n",
      "15000/15000 [==============================] - 3s 172us/sample - loss: 0.1093 - acc: 0.9693 - val_loss: 0.2997 - val_acc: 0.8839\n",
      "Epoch 36/40\n",
      "15000/15000 [==============================] - 3s 184us/sample - loss: 0.1050 - acc: 0.9715 - val_loss: 0.3016 - val_acc: 0.8841\n",
      "Epoch 37/40\n",
      "15000/15000 [==============================] - 3s 185us/sample - loss: 0.1007 - acc: 0.9726 - val_loss: 0.3043 - val_acc: 0.8825\n",
      "Epoch 38/40\n",
      "15000/15000 [==============================] - 3s 186us/sample - loss: 0.0969 - acc: 0.9744 - val_loss: 0.3082 - val_acc: 0.8818\n",
      "Epoch 39/40\n",
      "15000/15000 [==============================] - 3s 185us/sample - loss: 0.0937 - acc: 0.9756 - val_loss: 0.3121 - val_acc: 0.8810\n",
      "Epoch 40/40\n",
      "15000/15000 [==============================] - 3s 182us/sample - loss: 0.0897 - acc: 0.9773 - val_loss: 0.3145 - val_acc: 0.8823\n"
     ]
    }
   ],
   "source": [
    "history = model.fit(partial_x_train,\n",
    "                    partial_y_train,\n",
    "                    epochs=40,\n",
    "                    batch_size=512,\n",
    "                    validation_data=(x_val, y_val),\n",
    "                    verbose=1)"
   ]
  },
  {
   "cell_type": "code",
   "execution_count": 32,
   "metadata": {},
   "outputs": [
    {
     "name": "stdout",
     "output_type": "stream",
     "text": [
      "25000/25000 [==============================] - 3s 104us/sample - loss: 0.3358 - acc: 0.8710\n",
      "Test accuracy: 0.871\n"
     ]
    }
   ],
   "source": [
    "test_loss,test_acc = model.evaluate(test_data, test_labels)\n",
    "\n",
    "print(\"Test accuracy:\",test_acc)"
   ]
  },
  {
   "cell_type": "code",
   "execution_count": null,
   "metadata": {},
   "outputs": [],
   "source": []
  }
 ],
 "metadata": {
  "kernelspec": {
   "display_name": "Python 3",
   "language": "python",
   "name": "python3"
  },
  "language_info": {
   "codemirror_mode": {
    "name": "ipython",
    "version": 3
   },
   "file_extension": ".py",
   "mimetype": "text/x-python",
   "name": "python",
   "nbconvert_exporter": "python",
   "pygments_lexer": "ipython3",
   "version": "3.7.3"
  }
 },
 "nbformat": 4,
 "nbformat_minor": 2
}
